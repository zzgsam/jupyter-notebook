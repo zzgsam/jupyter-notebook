{
 "cells": [
  {
   "cell_type": "markdown",
   "metadata": {},
   "source": [
    "In diesem Jupyter-skript werden das Entwurfsverfahren eines Quasi-infinite-NMPC dargetstllt."
   ]
  },
  {
   "cell_type": "markdown",
   "metadata": {},
   "source": [
    "Zuerst werden die benötigten Paketen importiert."
   ]
  },
  {
   "cell_type": "code",
   "execution_count": null,
   "metadata": {},
   "outputs": [],
   "source": [
    "from casadi import SX,DM, vertcat, reshape, Function, nlpsol, inf, norm_2\n",
    "import matplotlib.pyplot as plt\n",
    "import random"
   ]
  },
  {
   "cell_type": "markdown",
   "metadata": {},
   "source": [
    "Parameter konfiguration"
   ]
  },
  {
   "cell_type": "code",
   "execution_count": 2,
   "metadata": {},
   "outputs": [],
   "source": [
    "# Parameter der Strecke\n",
    "A_B = 2.8274e-3  # [m**2]\n",
    "A_SP = 0.4299e-3  # [m**2]\n",
    "m = 2.8e-3  # [kg]\n",
    "g = 9.81  # [m/(s**2)]\n",
    "T_M = 0.57  # [s]\n",
    "k_M = 0.31  # [s**-1]\n",
    "k_V = 6e-5  # [m**3]\n",
    "k_L = 2.18e-4  # [kg/m]\n",
    "eta_0 = 1900 / 60  # / 60 * 2 * pi\n",
    "# Obere bzw. untere Beschränkungen der Zustände\n",
    "h_ub = 2\n",
    "h_lb = 0\n",
    "eta_ub = 200\n",
    "eta_lb = 0"
   ]
  },
  {
   "cell_type": "code",
   "execution_count": null,
   "metadata": {},
   "outputs": [],
   "source": []
  }
 ],
 "metadata": {
  "kernelspec": {
   "display_name": "Python 3",
   "language": "python",
   "name": "python3"
  },
  "language_info": {
   "codemirror_mode": {
    "name": "ipython",
    "version": 3
   },
   "file_extension": ".py",
   "mimetype": "text/x-python",
   "name": "python",
   "nbconvert_exporter": "python",
   "pygments_lexer": "ipython3",
   "version": "3.7.2"
  }
 },
 "nbformat": 4,
 "nbformat_minor": 2
}
